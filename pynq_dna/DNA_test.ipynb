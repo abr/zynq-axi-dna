{
 "cells": [
  {
   "cell_type": "markdown",
   "metadata": {},
   "source": [
    "# Example of reading Device DNA with PYNQ API"
   ]
  },
  {
   "cell_type": "code",
   "execution_count": 1,
   "metadata": {},
   "outputs": [
    {
     "data": {
      "application/javascript": [
       "\n",
       "require(['notebook/js/codecell'], function(codecell) {\n",
       "  codecell.CodeCell.options_default.highlight_modes[\n",
       "      'magic_text/x-csrc'] = {'reg':[/^%%microblaze/]};\n",
       "  Jupyter.notebook.events.one('kernel_ready.Kernel', function(){\n",
       "      Jupyter.notebook.get_cells().map(function(cell){\n",
       "          if (cell.cell_type == 'code'){ cell.auto_highlight(); } }) ;\n",
       "  });\n",
       "});\n"
      ]
     },
     "metadata": {},
     "output_type": "display_data"
    }
   ],
   "source": [
    "# Load packages we need\n",
    "from pprint import pprint\n",
    "from pynq import Overlay, DefaultIP"
   ]
  },
  {
   "cell_type": "markdown",
   "metadata": {},
   "source": [
    "## Load the overlay and see what's inside"
   ]
  },
  {
   "cell_type": "code",
   "execution_count": 2,
   "metadata": {},
   "outputs": [
    {
     "name": "stdout",
     "output_type": "stream",
     "text": [
      "{'zynq_AXI_DNA_0': {'addr_range': 4096,\n",
      "                    'driver': <class 'pynq.overlay.DefaultIP'>,\n",
      "                    'fullpath': 'zynq_AXI_DNA_0',\n",
      "                    'gpio': {},\n",
      "                    'interrupts': {},\n",
      "                    'phys_addr': 1136656384,\n",
      "                    'state': None,\n",
      "                    'type': 'ABR:user:zynq_AXI_DNA:1.0'}}\n"
     ]
    }
   ],
   "source": [
    "ol = Overlay(\"/home/xilinx/DNA_extractor.bit\")\n",
    "ol.download()\n",
    "\n",
    "pprint(ol.ip_dict)  # to see what's inside"
   ]
  },
  {
   "cell_type": "markdown",
   "metadata": {},
   "source": [
    "## Create the memory map\n",
    "\n",
    "We will use the PYNQ API to create an easy to use memory map on the PS side."
   ]
  },
  {
   "cell_type": "code",
   "execution_count": 3,
   "metadata": {},
   "outputs": [],
   "source": [
    "class MemoryMap(DefaultIP):\n",
    "    def __init__(self, description):\n",
    "        super().__init__(description)\n",
    "\n",
    "    bindto = ['ABR:user:zynq_AXI_DNA:1.0']\n",
    "    # found in ip_dict above as 'type'\n",
    "\n",
    "    # Creating 'getter' for mmio registers\n",
    "    @property\n",
    "    def reg0(self):\n",
    "        return self.read(0x00)\n",
    "        \n",
    "    @property\n",
    "    def reg1(self):\n",
    "        return self.read(0x04)\n",
    "    \n",
    "    @property\n",
    "    def reg2(self):\n",
    "        return self.read(0x08)\n",
    "        \n",
    "    @property\n",
    "    def reg3(self):\n",
    "        return self.read(0x0C)"
   ]
  },
  {
   "cell_type": "markdown",
   "metadata": {},
   "source": [
    "## Reload overlay to bind to our new MMIO driver"
   ]
  },
  {
   "cell_type": "code",
   "execution_count": 4,
   "metadata": {},
   "outputs": [
    {
     "name": "stdout",
     "output_type": "stream",
     "text": [
      "{'zynq_AXI_DNA_0': {'addr_range': 4096,\n",
      "                    'driver': <class '__main__.MemoryMap'>,\n",
      "                    'fullpath': 'zynq_AXI_DNA_0',\n",
      "                    'gpio': {},\n",
      "                    'interrupts': {},\n",
      "                    'phys_addr': 1136656384,\n",
      "                    'state': None,\n",
      "                    'type': 'ABR:user:zynq_AXI_DNA:1.0'}}\n"
     ]
    }
   ],
   "source": [
    "ol = Overlay(\"/home/xilinx/DNA_extractor.bit\")\n",
    "ol.download()\n",
    "\n",
    "pprint(ol.ip_dict)  # to see what's inside"
   ]
  },
  {
   "cell_type": "markdown",
   "metadata": {},
   "source": [
    "## Test it out\n",
    "\n",
    "We read two 32b registers in order to capture the 57b Device DNA, the additional 7 bits are tied to zero."
   ]
  },
  {
   "cell_type": "code",
   "execution_count": 5,
   "metadata": {},
   "outputs": [
    {
     "name": "stdout",
     "output_type": "stream",
     "text": [
      "DNA: 0x0054235884625018\n"
     ]
    }
   ],
   "source": [
    "DNA0 = ol.zynq_AXI_DNA_0.reg0\n",
    "DNA1 = ol.zynq_AXI_DNA_0.reg1\n",
    "print(\"DNA: %#0.8x%0.8x\" %(DNA0, DNA1))"
   ]
  },
  {
   "cell_type": "code",
   "execution_count": 6,
   "metadata": {},
   "outputs": [
    {
     "name": "stdout",
     "output_type": "stream",
     "text": [
      "zeros: 0x0000000000000000\n"
     ]
    }
   ],
   "source": [
    "# These registers should be zeros, check for peace of mind\n",
    "DNA2 = ol.zynq_AXI_DNA_0.reg2\n",
    "DNA3 = ol.zynq_AXI_DNA_0.reg3\n",
    "print(\"zeros: %#0.8x%0.8x\" %(DNA2, DNA3))"
   ]
  }
 ],
 "metadata": {
  "kernelspec": {
   "display_name": "Python 3",
   "language": "python",
   "name": "python3"
  },
  "language_info": {
   "codemirror_mode": {
    "name": "ipython",
    "version": 3
   },
   "file_extension": ".py",
   "mimetype": "text/x-python",
   "name": "python",
   "nbconvert_exporter": "python",
   "pygments_lexer": "ipython3",
   "version": "3.6.0"
  }
 },
 "nbformat": 4,
 "nbformat_minor": 2
}
