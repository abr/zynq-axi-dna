{
 "cells": [
  {
   "cell_type": "code",
   "execution_count": 6,
   "metadata": {},
   "outputs": [],
   "source": [
    "# Load packages we need\n",
    "import numpy as np\n",
    "from pprint import pprint\n",
    "import struct\n",
    "from pynq import Xlnk, Overlay, DefaultIP, DefaultHierarchy\n",
    "xlnk = Xlnk()\n",
    "\n",
    "from matplotlib import pyplot as plt\n",
    "import seaborn as sns\n",
    "plt.style.use('seaborn')\n",
    "%matplotlib inline"
   ]
  },
  {
   "cell_type": "code",
   "execution_count": 7,
   "metadata": {},
   "outputs": [
    {
     "name": "stdout",
     "output_type": "stream",
     "text": [
      "{'zynq_AXI_DNA_0': {'addr_range': 4096,\n",
      "                    'driver': <class 'pynq.overlay.DefaultIP'>,\n",
      "                    'fullpath': 'zynq_AXI_DNA_0',\n",
      "                    'gpio': {},\n",
      "                    'interrupts': {},\n",
      "                    'phys_addr': 1136656384,\n",
      "                    'state': None,\n",
      "                    'type': 'ABR:user:zynq_AXI_DNA:1.0'}}\n"
     ]
    }
   ],
   "source": [
    "ol = Overlay(\"/home/xilinx/DNA_extractor.bit\")\n",
    "ol.download()\n",
    "\n",
    "pprint(ol.ip_dict)  # to see what's inside"
   ]
  },
  {
   "cell_type": "code",
   "execution_count": 8,
   "metadata": {},
   "outputs": [],
   "source": [
    "class MemoryMap(DefaultIP):\n",
    "    def __init__(self, description):\n",
    "        super().__init__(description)\n",
    "\n",
    "    bindto = ['ABR:user:zynq_AXI_DNA:1.0']\n",
    "    # found in ip_dict above as 'type'\n",
    "\n",
    "    # Creating 'getter' and 'setter' for mmio signal\n",
    "    # Address from Vivado axi src file\n",
    "    @property\n",
    "    def reg0(self):\n",
    "        return self.read(0x00)\n",
    "\n",
    "    @reg0.setter\n",
    "    def reg0(self, value):\n",
    "        self.write(0x00, value)\n",
    "        \n",
    "    @property\n",
    "    def reg1(self):\n",
    "        return self.read(0x04)\n",
    "\n",
    "    @reg1.setter\n",
    "    def reg1(self, value):\n",
    "        self.write(0x04, value)\n",
    "    @property\n",
    "    def reg2(self):\n",
    "        return self.read(0x08)\n",
    "\n",
    "    @reg2.setter\n",
    "    def reg2(self, value):\n",
    "        self.write(0x08, value)\n",
    "        \n",
    "    @property\n",
    "    def reg3(self):\n",
    "        return self.read(0x0C)\n",
    "\n",
    "    @reg3.setter\n",
    "    def reg3(self, value):\n",
    "        self.write(0x0C, value)"
   ]
  },
  {
   "cell_type": "code",
   "execution_count": 9,
   "metadata": {},
   "outputs": [
    {
     "name": "stdout",
     "output_type": "stream",
     "text": [
      "{'zynq_AXI_DNA_0': {'addr_range': 4096,\n",
      "                    'driver': <class '__main__.MemoryMap'>,\n",
      "                    'fullpath': 'zynq_AXI_DNA_0',\n",
      "                    'gpio': {},\n",
      "                    'interrupts': {},\n",
      "                    'phys_addr': 1136656384,\n",
      "                    'state': None,\n",
      "                    'type': 'ABR:user:zynq_AXI_DNA:1.0'}}\n"
     ]
    }
   ],
   "source": [
    "ol = Overlay(\"/home/xilinx/DNA_extractor.bit\")\n",
    "ol.download()\n",
    "\n",
    "pprint(ol.ip_dict)  # to see what's inside"
   ]
  },
  {
   "cell_type": "code",
   "execution_count": 10,
   "metadata": {},
   "outputs": [
    {
     "name": "stdout",
     "output_type": "stream",
     "text": [
      "DNA: 0x0054235884625018\n"
     ]
    }
   ],
   "source": [
    "DNA0 = ol.zynq_AXI_DNA_0.reg0\n",
    "DNA1 = ol.zynq_AXI_DNA_0.reg1\n",
    "print(\"DNA: %#0.8x%0.8x\" %(DNA0, DNA1))"
   ]
  },
  {
   "cell_type": "markdown",
   "metadata": {},
   "source": [
    "Ben's board returned: `0x0054235884625018`"
   ]
  },
  {
   "cell_type": "code",
   "execution_count": null,
   "metadata": {},
   "outputs": [],
   "source": [
    "# These registers should be zeros, check for peace of mind\n",
    "DNA2 = ol.zynq_AXI_DNA_0.reg2\n",
    "DNA3 = ol.zynq_AXI_DNA_0.reg3\n",
    "print(\"DNA: %#0.8x%0.8x\" %(DNA2, DNA3))"
   ]
  }
 ],
 "metadata": {
  "kernelspec": {
   "display_name": "Python 3",
   "language": "python",
   "name": "python3"
  },
  "language_info": {
   "codemirror_mode": {
    "name": "ipython",
    "version": 3
   },
   "file_extension": ".py",
   "mimetype": "text/x-python",
   "name": "python",
   "nbconvert_exporter": "python",
   "pygments_lexer": "ipython3",
   "version": "3.6.0"
  }
 },
 "nbformat": 4,
 "nbformat_minor": 2
}
